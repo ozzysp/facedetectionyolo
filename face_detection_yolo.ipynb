{
  "nbformat": 4,
  "nbformat_minor": 0,
  "metadata": {
    "colab": {
      "provenance": []
    },
    "kernelspec": {
      "name": "python3",
      "display_name": "Python 3"
    },
    "language_info": {
      "name": "python"
    }
  },
  "cells": [
    {
      "cell_type": "code",
      "source": [
        "from google.colab import drive\n",
        "drive.mount('/content/drive')\n"
      ],
      "metadata": {
        "id": "alopDFt_1MGB"
      },
      "execution_count": null,
      "outputs": []
    },
    {
      "cell_type": "code",
      "source": [
        "!pip install opencv-python-headless\n"
      ],
      "metadata": {
        "id": "FENL6VEF2L7-"
      },
      "execution_count": null,
      "outputs": []
    },
    {
      "cell_type": "code",
      "source": [
        "import cv2\n",
        "import matplotlib.pyplot as plt\n",
        "from google.colab.patches import cv2_imshow\n",
        "import numpy as np\n"
      ],
      "metadata": {
        "id": "JRu8mZzc2OJp"
      },
      "execution_count": null,
      "outputs": []
    },
    {
      "cell_type": "code",
      "source": [
        "!wget https://github.com/pjreddie/darknet/blob/master/yolov3.weights?raw=true -O yolov3.weights\n",
        "!wget https://github.com/pjreddie/darknet/blob/master/cfg/yolov3.cfg?raw=true -O yolov3.cfg\n",
        "!wget https://raw.githubusercontent.com/pjreddie/darknet/master/data/coco.names\n"
      ],
      "metadata": {
        "id": "bUEC7SuL2QJf"
      },
      "execution_count": null,
      "outputs": []
    },
    {
      "cell_type": "code",
      "source": [
        "\n",
        "net = cv2.dnn.readNet(\"yolov3.weights\", \"yolov3.cfg\")\n",
        "\n",
        "\n",
        "classes = []\n",
        "with open(\"coco.names\", \"r\") as f:\n",
        "    classes = f.read().strip().split(\"\\n\")\n"
      ],
      "metadata": {
        "id": "8lAT9rsU2SO1"
      },
      "execution_count": null,
      "outputs": []
    },
    {
      "cell_type": "code",
      "source": [
        "def detect_faces(image):\n",
        "\n",
        "    blob = cv2.dnn.blobFromImage(image, 1 / 255.0, (416, 416), swapRB=True, crop=False)\n",
        "    net.setInput(blob)\n",
        "    layer_names = net.getUnconnectedOutLayersNames()\n",
        "    outs = net.forward(layer_names)\n",
        "\n",
        "\n",
        "    faces = []\n",
        "\n",
        "    for out in outs:\n",
        "        for detection in out:\n",
        "            scores = detection[5:]\n",
        "            class_id = np.argmax(scores)\n",
        "            confidence = scores[class_id]\n",
        "\n",
        "\n",
        "            if class_id == 0 and confidence > 0.5:\n",
        "                center_x = int(detection[0] * image.shape[1])\n",
        "                center_y = int(detection[1] * image.shape[0])\n",
        "                width = int(detection[2] * image.shape[1])\n",
        "                height = int(detection[3] * image.shape[0])\n",
        "\n",
        "\n",
        "                x = int(center_x - width / 2)\n",
        "                y = int(center_y - height / 2)\n",
        "\n",
        "\n",
        "                faces.append((x, y, width, height))\n",
        "\n",
        "    return faces\n"
      ],
      "metadata": {
        "id": "lFQjBER22Uht"
      },
      "execution_count": null,
      "outputs": []
    },
    {
      "cell_type": "code",
      "source": [
        "\n",
        "cap = cv2.VideoCapture(0)\n",
        "\n",
        "while True:\n",
        "    ret, frame = cap.read()\n",
        "    if not ret:\n",
        "        break\n",
        "\n",
        "\n",
        "    faces = detect_faces(frame)\n",
        "\n",
        "\n",
        "    for (x, y, w, h) in faces:\n",
        "        cv2.rectangle(frame, (x, y), (x + w, y + h), (0, 255, 0), 2)\n",
        "\n",
        "\n",
        "    cv2_imshow(frame)\n",
        "\n",
        "\n",
        "    if cv2.waitKey(1) & 0xFF == ord('q'):\n",
        "        break\n",
        "\n",
        "\n",
        "cap.release()\n",
        "cv2.destroyAllWindows()\n",
        "\n",
        "\n",
        "# !rm yolov3.cfg yolov3.weights coco.names\n"
      ],
      "metadata": {
        "id": "KFwv3D9S2W_y"
      },
      "execution_count": null,
      "outputs": []
    }
  ]
}